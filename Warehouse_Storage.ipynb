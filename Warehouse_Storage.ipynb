{
 "cells": [
  {
   "cell_type": "code",
   "execution_count": 1,
   "metadata": {
    "id": "Wksfgi7VjvvH"
   },
   "outputs": [],
   "source": [
    "import json\n",
    "import os\n",
    "\n",
    "DATA_FILE = \"biomarket_data.json\"\n",
    "\n",
    "def load_data():\n",
    "    \"\"\"\n",
    "    Load data from the JSON file. If the file does not exist, create an empty data structure.\n",
    "    Returns a dictionary with 'products' and 'sales'.\n",
    "    \"\"\"\n",
    "    if not os.path.exists(DATA_FILE):\n",
    "        return {\"products\": {}, \"sales\": []}\n",
    "    try:\n",
    "        with open(DATA_FILE, \"r\", encoding=\"utf-8\") as f:\n",
    "            return json.load(f)\n",
    "    except (json.JSONDecodeError, IOError):\n",
    "        print(\"Error loading data. File corrupted or unreadable.\")\n",
    "        return {\"products\": {}, \"sales\": []}\n"
   ]
  },
  {
   "cell_type": "code",
   "execution_count": 2,
   "metadata": {
    "id": "JI_Dwl0jjwqB"
   },
   "outputs": [],
   "source": [
    "def save_data(data):\n",
    "    \"\"\"\n",
    "    Save data to the JSON file for persistence.\n",
    "    \"\"\"\n",
    "    with open(DATA_FILE, \"w\") as f:\n",
    "        json.dump(data, f, indent=4, ensure_ascii=False)"
   ]
  },
  {
   "cell_type": "code",
   "execution_count": 3,
   "metadata": {
    "id": "To1PUnYijzdq"
   },
   "outputs": [],
   "source": [
    "def print_help():\n",
    "    \"\"\"\n",
    "    Print the help menu with available commands.\n",
    "    \"\"\"\n",
    "    print(\"Available commands are:\")\n",
    "    print(\"add: add a product to the inventory\")\n",
    "    print(\"list: list all products in inventory\")\n",
    "    print(\"sale: register a completed sale\")\n",
    "    print(\"profits: show total profits\")\n",
    "    print(\"help: show available commands\")\n",
    "    print(\"exit: exit the program\")"
   ]
  },
  {
   "cell_type": "code",
   "execution_count": 4,
   "metadata": {
    "id": "_7Ewg_gDj18V"
   },
   "outputs": [],
   "source": [
    "def input_positive_int(prompt):\n",
    "    \"\"\"\n",
    "    Prompt the user for a positive integer input, repeat until valid.\n",
    "    \"\"\"\n",
    "    while True:\n",
    "        val = input(prompt).strip()\n",
    "        if val.isdigit() and int(val) > 0:\n",
    "            return int(val)\n",
    "        print(\"Invalid value. Please enter a positive integer.\")"
   ]
  },
  {
   "cell_type": "code",
   "execution_count": 5,
   "metadata": {
    "id": "HLCgdwWKj4rN"
   },
   "outputs": [],
   "source": [
    "def input_positive_float(prompt):\n",
    "    \"\"\"\n",
    "    Prompt the user for a positive float input, repeat until valid.\n",
    "    \"\"\"\n",
    "    while True:\n",
    "        val = input(prompt).strip().replace(\",\", \".\")\n",
    "        try:\n",
    "            f = float(val)\n",
    "            if f > 0:\n",
    "                return f\n",
    "            else:\n",
    "                print(\"Please enter a positive number.\")\n",
    "        except ValueError:\n",
    "            print(\"Invalid value. Please enter a number (e.g. 1.40).\")\n"
   ]
  },
  {
   "cell_type": "code",
   "execution_count": 6,
   "metadata": {
    "id": "JSU-piCKj7af"
   },
   "outputs": [],
   "source": [
    "def add_product(data):\n",
    "    \"\"\"\n",
    "    Add a product to the inventory. If the product already exists,\n",
    "    only update the quantity.\n",
    "    \"\"\"\n",
    "    name = input(\"Product name: \").strip().lower()\n",
    "    if not name:\n",
    "        print(\"Invalid product name.\")\n",
    "        return\n",
    "    quantity = input_positive_int(\"Quantity: \")\n",
    "\n",
    "    products = data[\"products\"]\n",
    "    if name in products:\n",
    "        # Existing product: add quantity\n",
    "        products[name][\"quantity\"] += quantity\n",
    "        print(f\"ADDED: {quantity} X {name}\")\n",
    "    else:\n",
    "        # New product: ask for prices\n",
    "        price_purchase = input_positive_float(\"Purchase price: \")\n",
    "        price_sale = input_positive_float(\"Sale price: \")\n",
    "        products[name] = {\n",
    "            \"quantity\": quantity,\n",
    "            \"price_purchase\": price_purchase,\n",
    "            \"price_sale\": price_sale\n",
    "        }\n",
    "        print(f\"ADDED: {quantity} X {name}\")\n"
   ]
  },
  {
   "cell_type": "code",
   "execution_count": 7,
   "metadata": {
    "id": "S8AIvJQQj_r3"
   },
   "outputs": [],
   "source": [
    "def list_products(data):\n",
    "    \"\"\"\n",
    "    List all products currently in inventory.\n",
    "    \"\"\"\n",
    "    products = data[\"products\"]\n",
    "    if not products:\n",
    "        print(\"Inventory is empty.\")\n",
    "        return\n",
    "    print(\"PRODUCT        QUANTITY   PRICE\")\n",
    "    for name, info in products.items():\n",
    "        print(f\"{name:<15} {info['quantity']:<10} €{info['price_sale']}\")"
   ]
  },
  {
   "cell_type": "code",
   "execution_count": 8,
   "metadata": {
    "id": "S3nEtttVkB9H"
   },
   "outputs": [],
   "source": [
    "def register_sale(data):\n",
    "    \"\"\"\n",
    "    Register a sale, updating inventory and saving the sale.\n",
    "    Check product availability and quantity.\n",
    "    \"\"\"\n",
    "    products = data[\"products\"]\n",
    "    sale_items = []\n",
    "    while True:\n",
    "        name = input(\"Product name: \").strip().lower()\n",
    "        if name not in products:\n",
    "            print(f\"Error: product '{name}' not found in inventory.\")\n",
    "            continue\n",
    "        max_qty = products[name][\"quantity\"]\n",
    "        if max_qty == 0:\n",
    "            print(f\"Error: product '{name}' is out of stock.\")\n",
    "            continue\n",
    "        quantity = input_positive_int(\"Quantity: \")\n",
    "        if quantity > max_qty:\n",
    "            print(f\"Error: available quantity for '{name}' is {max_qty}.\")\n",
    "            continue\n",
    "        sale_items.append({\"name\": name, \"quantity\": quantity})\n",
    "        another = input(\"Add another product? (yes/no): \").strip().lower()\n",
    "        while another not in (\"yes\", \"no\"):\n",
    "            another = input(\"Invalid answer. Add another product? (yes/no): \").strip().lower()\n",
    "        if another == \"no\":\n",
    "            break\n",
    "\n",
    "    # Update inventory and record sale\n",
    "    total = 0\n",
    "    print(\"SALE REGISTERED\")\n",
    "    for item in sale_items:\n",
    "        p = products[item[\"name\"]]\n",
    "        p[\"quantity\"] -= item[\"quantity\"]\n",
    "        line_total = item[\"quantity\"] * p[\"price_sale\"]\n",
    "        total += line_total\n",
    "        print(f\"- {item['quantity']} X {item['name']}: €{p['price_sale']}\")\n",
    "\n",
    "    print(f\"Total: €{round(total, 2)}\")\n",
    "\n",
    "    # Save the sale for profit calculations\n",
    "    data[\"sales\"].append(sale_items)\n"
   ]
  },
  {
   "cell_type": "code",
   "execution_count": 9,
   "metadata": {
    "id": "SDMLdbSXkHUh"
   },
   "outputs": [],
   "source": [
    "def calculate_profits(data):\n",
    "    \"\"\"\n",
    "    Calculate and show gross and net profits.\n",
    "    Gross profit = total sales revenue (sale price * quantity)\n",
    "    Net profit = gross profit - purchase cost of sold products\n",
    "    \"\"\"\n",
    "    products = data[\"products\"]\n",
    "    sales = data[\"sales\"]\n",
    "    total_revenue = 0.0\n",
    "    total_cost = 0.0\n",
    "\n",
    "    for sale in sales:\n",
    "        for item in sale:\n",
    "            name = item[\"name\"]\n",
    "            qty = item[\"quantity\"]\n",
    "            if name in products:\n",
    "                price_sale = products[name][\"price_sale\"]\n",
    "                price_purchase = products[name][\"price_purchase\"]\n",
    "            else:\n",
    "                # If product no longer in inventory, skip for simplicity\n",
    "                continue\n",
    "            total_revenue += price_sale * qty\n",
    "            total_cost += price_purchase * qty\n",
    "\n",
    "    gross_profit = round(total_revenue, 2)\n",
    "    net_profit = round(total_revenue - total_cost, 2)\n",
    "    print(f\"Profit: gross=€{gross_profit} net=€{net_profit}\")\n"
   ]
  },
  {
   "cell_type": "code",
   "execution_count": 10,
   "metadata": {
    "id": "5hbdzROwkLK7"
   },
   "outputs": [
    {
     "name": "stdout",
     "output_type": "stream",
     "text": [
      "Available commands are:\n",
      "add: add a product to the inventory\n",
      "list: list all products in inventory\n",
      "sale: register a completed sale\n",
      "profits: show total profits\n",
      "help: show available commands\n",
      "exit: exit the program\n",
      "Invalid value. Please enter a positive integer.\n",
      "ADDED: 10 X help\n",
      "Available commands are:\n",
      "add: add a product to the inventory\n",
      "list: list all products in inventory\n",
      "sale: register a completed sale\n",
      "profits: show total profits\n",
      "help: show available commands\n",
      "exit: exit the program\n",
      "Bye bye\n"
     ]
    }
   ],
   "source": [
    "def main():\n",
    "    \"\"\"\n",
    "    Main function to handle the input loop and commands.\n",
    "    \"\"\"\n",
    "    data = load_data()\n",
    "    print_help()\n",
    "    while True:\n",
    "        command = input(\"\\nEnter a command: \").strip().lower()\n",
    "        if command == \"add\":\n",
    "            add_product(data)\n",
    "            save_data(data)\n",
    "        elif command == \"list\":\n",
    "            list_products(data)\n",
    "        elif command == \"sale\":\n",
    "            register_sale(data)\n",
    "            save_data(data)\n",
    "        elif command == \"profits\":\n",
    "            calculate_profits(data)\n",
    "        elif command == \"help\":\n",
    "            print_help()\n",
    "        elif command == \"exit\":\n",
    "            print(\"Bye bye\")\n",
    "            break\n",
    "        else:\n",
    "            print(\"Invalid command\")\n",
    "            print_help()\n",
    "\n",
    "if __name__ == \"__main__\":\n",
    "    main()"
   ]
  }
 ],
 "metadata": {
  "colab": {
   "authorship_tag": "ABX9TyOfzeEFW+XPb10otuDzcY0m",
   "provenance": []
  },
  "kernelspec": {
   "display_name": "base",
   "language": "python",
   "name": "python3"
  },
  "language_info": {
   "codemirror_mode": {
    "name": "ipython",
    "version": 3
   },
   "file_extension": ".py",
   "mimetype": "text/x-python",
   "name": "python",
   "nbconvert_exporter": "python",
   "pygments_lexer": "ipython3",
   "version": "3.12.7"
  }
 },
 "nbformat": 4,
 "nbformat_minor": 0
}
